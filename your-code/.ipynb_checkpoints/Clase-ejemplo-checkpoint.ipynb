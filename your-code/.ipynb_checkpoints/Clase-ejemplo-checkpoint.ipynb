{
 "cells": [
  {
   "cell_type": "markdown",
   "metadata": {},
   "source": [
    "# Ejemplo de Subsetting and Describe"
   ]
  },
  {
   "cell_type": "code",
   "execution_count": 4,
   "metadata": {},
   "outputs": [],
   "source": [
    "#import numpy as np\n",
    "import pandas as pd\n",
    "\n",
    "animals = pd.read_csv('animals.csv')"
   ]
  },
  {
   "cell_type": "code",
   "execution_count": 2,
   "metadata": {},
   "outputs": [
    {
     "data": {
      "text/plain": [
       "brainwt    float64\n",
       "bodywt     float64\n",
       "animal      object\n",
       "dtype: object"
      ]
     },
     "execution_count": 2,
     "metadata": {},
     "output_type": "execute_result"
    }
   ],
   "source": [
    "animals.dtypes"
   ]
  },
  {
   "cell_type": "code",
   "execution_count": 3,
   "metadata": {},
   "outputs": [
    {
     "data": {
      "text/plain": [
       "brainwt    float64\n",
       "bodywt     float64\n",
       "animal      object\n",
       "dtype: object"
      ]
     },
     "execution_count": 3,
     "metadata": {},
     "output_type": "execute_result"
    }
   ],
   "source": [
    "animals.dtypes"
   ]
  },
  {
   "cell_type": "code",
   "execution_count": 4,
   "metadata": {},
   "outputs": [
    {
     "data": {
      "text/plain": [
       "brainwt                  6654.18\n",
       "bodywt                   5711.86\n",
       "animal     Yellow-bellied_marmot\n",
       "dtype: object"
      ]
     },
     "execution_count": 4,
     "metadata": {},
     "output_type": "execute_result"
    }
   ],
   "source": [
    "animals.max()"
   ]
  },
  {
   "cell_type": "code",
   "execution_count": 5,
   "metadata": {},
   "outputs": [
    {
     "data": {
      "text/plain": [
       "brainwt               0.005\n",
       "bodywt                 0.14\n",
       "animal     African_elephant\n",
       "dtype: object"
      ]
     },
     "execution_count": 5,
     "metadata": {},
     "output_type": "execute_result"
    }
   ],
   "source": [
    "animals.min()"
   ]
  },
  {
   "cell_type": "code",
   "execution_count": 6,
   "metadata": {},
   "outputs": [
    {
     "data": {
      "text/plain": [
       "brainwt    198.794290\n",
       "bodywt     283.135355\n",
       "dtype: float64"
      ]
     },
     "execution_count": 6,
     "metadata": {},
     "output_type": "execute_result"
    }
   ],
   "source": [
    "animals.mean()"
   ]
  },
  {
   "cell_type": "code",
   "execution_count": 7,
   "metadata": {},
   "outputs": [
    {
     "data": {
      "text/plain": [
       "brainwt    899.182313\n",
       "bodywt     930.278876\n",
       "dtype: float64"
      ]
     },
     "execution_count": 7,
     "metadata": {},
     "output_type": "execute_result"
    }
   ],
   "source": [
    "animals.std()"
   ]
  },
  {
   "cell_type": "code",
   "execution_count": 8,
   "metadata": {},
   "outputs": [
    {
     "data": {
      "text/plain": [
       "283.1353548387098"
      ]
     },
     "execution_count": 8,
     "metadata": {},
     "output_type": "execute_result"
    }
   ],
   "source": [
    "animals['bodywt'].mean()"
   ]
  },
  {
   "cell_type": "code",
   "execution_count": 10,
   "metadata": {},
   "outputs": [
    {
     "data": {
      "text/plain": [
       "<matplotlib.axes._subplots.AxesSubplot at 0x2cc71edab70>"
      ]
     },
     "execution_count": 10,
     "metadata": {},
     "output_type": "execute_result"
    },
    {
     "data": {
      "image/png": "[encoded data removed]",
      "text/plain": [
       "<Figure size 432x288 with 1 Axes>"
      ]
     },
     "metadata": {
      "needs_background": "light"
     },
     "output_type": "display_data"
    }
   ],
   "source": [
    "import matplotlib\n",
    "\n",
    "%matplotlib inline  #todas las gráficas las va a poner en linea para que aparezcan en el output y no tengas que guardarlas\n",
    "\n",
    "animals.boxplot()"
   ]
  },
  {
   "cell_type": "code",
   "execution_count": 12,
   "metadata": {},
   "outputs": [
    {
     "data": {
      "text/plain": [
       "array([[<matplotlib.axes._subplots.AxesSubplot object at 0x000002CC71FD8240>,\n",
       "        <matplotlib.axes._subplots.AxesSubplot object at 0x000002CC72133470>]],\n",
       "      dtype=object)"
      ]
     },
     "execution_count": 12,
     "metadata": {},
     "output_type": "execute_result"
    },
    {
     "data": {
      "image/png": "[encoded data removed]",
      "text/plain": [
       "<Figure size 432x288 with 2 Axes>"
      ]
     },
     "metadata": {
      "needs_background": "light"
     },
     "output_type": "display_data"
    },
    {
     "data": {
      "image/png": "[encoded data removed]",
      "text/plain": [
       "<Figure size 432x288 with 2 Axes>"
      ]
     },
     "metadata": {
      "needs_background": "light"
     },
     "output_type": "display_data"
    }
   ],
   "source": [
    "animals.hist()\n",
    "animals.hist(bins=20)"
   ]
  },
  {
   "cell_type": "markdown",
   "metadata": {},
   "source": [
    "# Segunda Clase"
   ]
  },
  {
   "cell_type": "code",
   "execution_count": 7,
   "metadata": {},
   "outputs": [
    {
     "data": {
      "text/html": [
       "<div>\n",
       "<style scoped>\n",
       "    .dataframe tbody tr th:only-of-type {\n",
       "        vertical-align: middle;\n",
       "    }\n",
       "\n",
       "    .dataframe tbody tr th {\n",
       "        vertical-align: top;\n",
       "    }\n",
       "\n",
       "    .dataframe thead th {\n",
       "        text-align: right;\n",
       "    }\n",
       "</style>\n",
       "<table border=\"1\" class=\"dataframe\">\n",
       "  <thead>\n",
       "    <tr style=\"text-align: right;\">\n",
       "      <th></th>\n",
       "      <th>brainwt</th>\n",
       "      <th>bodywt</th>\n",
       "      <th>animal</th>\n",
       "    </tr>\n",
       "  </thead>\n",
       "  <tbody>\n",
       "    <tr>\n",
       "      <th>40</th>\n",
       "      <td>1.400</td>\n",
       "      <td>12.500</td>\n",
       "      <td>Slow_loris</td>\n",
       "    </tr>\n",
       "    <tr>\n",
       "      <th>41</th>\n",
       "      <td>250.010</td>\n",
       "      <td>489.997</td>\n",
       "      <td>Okapi</td>\n",
       "    </tr>\n",
       "    <tr>\n",
       "      <th>42</th>\n",
       "      <td>2.500</td>\n",
       "      <td>12.100</td>\n",
       "      <td>Rabbit</td>\n",
       "    </tr>\n",
       "    <tr>\n",
       "      <th>43</th>\n",
       "      <td>55.501</td>\n",
       "      <td>175.002</td>\n",
       "      <td>Sheep</td>\n",
       "    </tr>\n",
       "    <tr>\n",
       "      <th>44</th>\n",
       "      <td>100.003</td>\n",
       "      <td>156.993</td>\n",
       "      <td>Jaguar</td>\n",
       "    </tr>\n",
       "    <tr>\n",
       "      <th>45</th>\n",
       "      <td>52.159</td>\n",
       "      <td>440.011</td>\n",
       "      <td>Chimpanzee</td>\n",
       "    </tr>\n",
       "    <tr>\n",
       "      <th>46</th>\n",
       "      <td>10.550</td>\n",
       "      <td>179.504</td>\n",
       "      <td>Baboon</td>\n",
       "    </tr>\n",
       "    <tr>\n",
       "      <th>47</th>\n",
       "      <td>0.550</td>\n",
       "      <td>2.400</td>\n",
       "      <td>Desert_hedgehog</td>\n",
       "    </tr>\n",
       "    <tr>\n",
       "      <th>48</th>\n",
       "      <td>59.997</td>\n",
       "      <td>80.996</td>\n",
       "      <td>Giant_armadillo</td>\n",
       "    </tr>\n",
       "    <tr>\n",
       "      <th>49</th>\n",
       "      <td>3.600</td>\n",
       "      <td>21.000</td>\n",
       "      <td>Rock_hyrax2</td>\n",
       "    </tr>\n",
       "    <tr>\n",
       "      <th>50</th>\n",
       "      <td>4.288</td>\n",
       "      <td>39.201</td>\n",
       "      <td>Raccoon</td>\n",
       "    </tr>\n",
       "    <tr>\n",
       "      <th>51</th>\n",
       "      <td>0.280</td>\n",
       "      <td>1.900</td>\n",
       "      <td>Rat</td>\n",
       "    </tr>\n",
       "    <tr>\n",
       "      <th>52</th>\n",
       "      <td>0.075</td>\n",
       "      <td>1.200</td>\n",
       "      <td>E._American_mole</td>\n",
       "    </tr>\n",
       "    <tr>\n",
       "      <th>53</th>\n",
       "      <td>0.122</td>\n",
       "      <td>3.000</td>\n",
       "      <td>Mole_rat</td>\n",
       "    </tr>\n",
       "    <tr>\n",
       "      <th>54</th>\n",
       "      <td>0.048</td>\n",
       "      <td>0.330</td>\n",
       "      <td>Musk_shrew</td>\n",
       "    </tr>\n",
       "    <tr>\n",
       "      <th>55</th>\n",
       "      <td>192.001</td>\n",
       "      <td>180.008</td>\n",
       "      <td>Pig</td>\n",
       "    </tr>\n",
       "    <tr>\n",
       "      <th>56</th>\n",
       "      <td>3.000</td>\n",
       "      <td>25.001</td>\n",
       "      <td>Echidna</td>\n",
       "    </tr>\n",
       "    <tr>\n",
       "      <th>57</th>\n",
       "      <td>160.004</td>\n",
       "      <td>169.000</td>\n",
       "      <td>Brazilian_tapir</td>\n",
       "    </tr>\n",
       "    <tr>\n",
       "      <th>58</th>\n",
       "      <td>0.900</td>\n",
       "      <td>2.600</td>\n",
       "      <td>Tenrec</td>\n",
       "    </tr>\n",
       "    <tr>\n",
       "      <th>59</th>\n",
       "      <td>1.620</td>\n",
       "      <td>11.400</td>\n",
       "      <td>Phalanger</td>\n",
       "    </tr>\n",
       "    <tr>\n",
       "      <th>60</th>\n",
       "      <td>0.104</td>\n",
       "      <td>2.500</td>\n",
       "      <td>Tree_shrew</td>\n",
       "    </tr>\n",
       "    <tr>\n",
       "      <th>61</th>\n",
       "      <td>4.235</td>\n",
       "      <td>50.400</td>\n",
       "      <td>Red_fox</td>\n",
       "    </tr>\n",
       "  </tbody>\n",
       "</table>\n",
       "</div>"
      ],
      "text/plain": [
       "    brainwt   bodywt            animal\n",
       "40    1.400   12.500        Slow_loris\n",
       "41  250.010  489.997             Okapi\n",
       "42    2.500   12.100            Rabbit\n",
       "43   55.501  175.002             Sheep\n",
       "44  100.003  156.993            Jaguar\n",
       "45   52.159  440.011        Chimpanzee\n",
       "46   10.550  179.504            Baboon\n",
       "47    0.550    2.400   Desert_hedgehog\n",
       "48   59.997   80.996   Giant_armadillo\n",
       "49    3.600   21.000       Rock_hyrax2\n",
       "50    4.288   39.201           Raccoon\n",
       "51    0.280    1.900               Rat\n",
       "52    0.075    1.200  E._American_mole\n",
       "53    0.122    3.000          Mole_rat\n",
       "54    0.048    0.330        Musk_shrew\n",
       "55  192.001  180.008               Pig\n",
       "56    3.000   25.001           Echidna\n",
       "57  160.004  169.000   Brazilian_tapir\n",
       "58    0.900    2.600            Tenrec\n",
       "59    1.620   11.400         Phalanger\n",
       "60    0.104    2.500        Tree_shrew\n",
       "61    4.235   50.400           Red_fox"
      ]
     },
     "execution_count": 7,
     "metadata": {},
     "output_type": "execute_result"
    }
   ],
   "source": [
    "animals[40:]"
   ]
  },
  {
   "cell_type": "code",
   "execution_count": 10,
   "metadata": {},
   "outputs": [
    {
     "data": {
      "text/html": [
       "<div>\n",
       "<style scoped>\n",
       "    .dataframe tbody tr th:only-of-type {\n",
       "        vertical-align: middle;\n",
       "    }\n",
       "\n",
       "    .dataframe tbody tr th {\n",
       "        vertical-align: top;\n",
       "    }\n",
       "\n",
       "    .dataframe thead th {\n",
       "        text-align: right;\n",
       "    }\n",
       "</style>\n",
       "<table border=\"1\" class=\"dataframe\">\n",
       "  <thead>\n",
       "    <tr style=\"text-align: right;\">\n",
       "      <th></th>\n",
       "      <th>brainwt</th>\n",
       "      <th>bodywt</th>\n",
       "    </tr>\n",
       "  </thead>\n",
       "  <tbody>\n",
       "    <tr>\n",
       "      <th>5</th>\n",
       "      <td>27.660</td>\n",
       "      <td>114.996</td>\n",
       "    </tr>\n",
       "    <tr>\n",
       "      <th>6</th>\n",
       "      <td>14.831</td>\n",
       "      <td>98.199</td>\n",
       "    </tr>\n",
       "    <tr>\n",
       "      <th>7</th>\n",
       "      <td>1.040</td>\n",
       "      <td>5.500</td>\n",
       "    </tr>\n",
       "    <tr>\n",
       "      <th>8</th>\n",
       "      <td>4.190</td>\n",
       "      <td>57.998</td>\n",
       "    </tr>\n",
       "    <tr>\n",
       "      <th>9</th>\n",
       "      <td>0.425</td>\n",
       "      <td>6.400</td>\n",
       "    </tr>\n",
       "  </tbody>\n",
       "</table>\n",
       "</div>"
      ],
      "text/plain": [
       "   brainwt   bodywt\n",
       "5   27.660  114.996\n",
       "6   14.831   98.199\n",
       "7    1.040    5.500\n",
       "8    4.190   57.998\n",
       "9    0.425    6.400"
      ]
     },
     "execution_count": 10,
     "metadata": {},
     "output_type": "execute_result"
    }
   ],
   "source": [
    "#iloc es para indices del número  d coluans\n",
    "\n",
    "animals.iloc[5:10, 0:2]  "
   ]
  },
  {
   "cell_type": "code",
   "execution_count": 11,
   "metadata": {},
   "outputs": [
    {
     "data": {
      "text/html": [
       "<div>\n",
       "<style scoped>\n",
       "    .dataframe tbody tr th:only-of-type {\n",
       "        vertical-align: middle;\n",
       "    }\n",
       "\n",
       "    .dataframe tbody tr th {\n",
       "        vertical-align: top;\n",
       "    }\n",
       "\n",
       "    .dataframe thead th {\n",
       "        text-align: right;\n",
       "    }\n",
       "</style>\n",
       "<table border=\"1\" class=\"dataframe\">\n",
       "  <thead>\n",
       "    <tr style=\"text-align: right;\">\n",
       "      <th></th>\n",
       "      <th>bodywt</th>\n",
       "      <th>brainwt</th>\n",
       "    </tr>\n",
       "  </thead>\n",
       "  <tbody>\n",
       "    <tr>\n",
       "      <th>5</th>\n",
       "      <td>114.996</td>\n",
       "      <td>27.660</td>\n",
       "    </tr>\n",
       "    <tr>\n",
       "      <th>6</th>\n",
       "      <td>98.199</td>\n",
       "      <td>14.831</td>\n",
       "    </tr>\n",
       "    <tr>\n",
       "      <th>7</th>\n",
       "      <td>5.500</td>\n",
       "      <td>1.040</td>\n",
       "    </tr>\n",
       "    <tr>\n",
       "      <th>8</th>\n",
       "      <td>57.998</td>\n",
       "      <td>4.190</td>\n",
       "    </tr>\n",
       "    <tr>\n",
       "      <th>9</th>\n",
       "      <td>6.400</td>\n",
       "      <td>0.425</td>\n",
       "    </tr>\n",
       "    <tr>\n",
       "      <th>10</th>\n",
       "      <td>4.000</td>\n",
       "      <td>0.101</td>\n",
       "    </tr>\n",
       "  </tbody>\n",
       "</table>\n",
       "</div>"
      ],
      "text/plain": [
       "     bodywt  brainwt\n",
       "5   114.996   27.660\n",
       "6    98.199   14.831\n",
       "7     5.500    1.040\n",
       "8    57.998    4.190\n",
       "9     6.400    0.425\n",
       "10    4.000    0.101"
      ]
     },
     "execution_count": 11,
     "metadata": {},
     "output_type": "execute_result"
    }
   ],
   "source": [
    "#loc es con nombres de columnas\n",
    "\n",
    "animals.loc[5:10, ['bodywt', 'brainwt']]"
   ]
  },
  {
   "cell_type": "code",
   "execution_count": 12,
   "metadata": {},
   "outputs": [
    {
     "data": {
      "text/html": [
       "<div>\n",
       "<style scoped>\n",
       "    .dataframe tbody tr th:only-of-type {\n",
       "        vertical-align: middle;\n",
       "    }\n",
       "\n",
       "    .dataframe tbody tr th {\n",
       "        vertical-align: top;\n",
       "    }\n",
       "\n",
       "    .dataframe thead th {\n",
       "        text-align: right;\n",
       "    }\n",
       "</style>\n",
       "<table border=\"1\" class=\"dataframe\">\n",
       "  <thead>\n",
       "    <tr style=\"text-align: right;\">\n",
       "      <th></th>\n",
       "      <th>brainwt</th>\n",
       "      <th>bodywt</th>\n",
       "      <th>animal</th>\n",
       "    </tr>\n",
       "  </thead>\n",
       "  <tbody>\n",
       "    <tr>\n",
       "      <th>13</th>\n",
       "      <td>0.005</td>\n",
       "      <td>0.14</td>\n",
       "      <td>Lesser_short-tailed-shrew</td>\n",
       "    </tr>\n",
       "    <tr>\n",
       "      <th>14</th>\n",
       "      <td>0.060</td>\n",
       "      <td>1.00</td>\n",
       "      <td>Star-nosed_mole</td>\n",
       "    </tr>\n",
       "    <tr>\n",
       "      <th>19</th>\n",
       "      <td>0.023</td>\n",
       "      <td>0.30</td>\n",
       "      <td>Big_brown_bat</td>\n",
       "    </tr>\n",
       "    <tr>\n",
       "      <th>37</th>\n",
       "      <td>0.120</td>\n",
       "      <td>1.00</td>\n",
       "      <td>Golden_hamster</td>\n",
       "    </tr>\n",
       "    <tr>\n",
       "      <th>38</th>\n",
       "      <td>0.023</td>\n",
       "      <td>0.40</td>\n",
       "      <td>Mouse</td>\n",
       "    </tr>\n",
       "    <tr>\n",
       "      <th>39</th>\n",
       "      <td>0.010</td>\n",
       "      <td>0.25</td>\n",
       "      <td>Little_brown_bat</td>\n",
       "    </tr>\n",
       "    <tr>\n",
       "      <th>51</th>\n",
       "      <td>0.280</td>\n",
       "      <td>1.90</td>\n",
       "      <td>Rat</td>\n",
       "    </tr>\n",
       "    <tr>\n",
       "      <th>52</th>\n",
       "      <td>0.075</td>\n",
       "      <td>1.20</td>\n",
       "      <td>E._American_mole</td>\n",
       "    </tr>\n",
       "    <tr>\n",
       "      <th>54</th>\n",
       "      <td>0.048</td>\n",
       "      <td>0.33</td>\n",
       "      <td>Musk_shrew</td>\n",
       "    </tr>\n",
       "  </tbody>\n",
       "</table>\n",
       "</div>"
      ],
      "text/plain": [
       "    brainwt  bodywt                     animal\n",
       "13    0.005    0.14  Lesser_short-tailed-shrew\n",
       "14    0.060    1.00            Star-nosed_mole\n",
       "19    0.023    0.30              Big_brown_bat\n",
       "37    0.120    1.00             Golden_hamster\n",
       "38    0.023    0.40                      Mouse\n",
       "39    0.010    0.25           Little_brown_bat\n",
       "51    0.280    1.90                        Rat\n",
       "52    0.075    1.20           E._American_mole\n",
       "54    0.048    0.33                 Musk_shrew"
      ]
     },
     "execution_count": 12,
     "metadata": {},
     "output_type": "execute_result"
    }
   ],
   "source": [
    "animals[animals.bodywt < 2] #Adentro de este [] se pone cualquier valor booleano. Sí es TRUE, entonces podrías b"
   ]
  },
  {
   "cell_type": "code",
   "execution_count": 15,
   "metadata": {},
   "outputs": [
    {
     "data": {
      "text/html": [
       "<div>\n",
       "<style scoped>\n",
       "    .dataframe tbody tr th:only-of-type {\n",
       "        vertical-align: middle;\n",
       "    }\n",
       "\n",
       "    .dataframe tbody tr th {\n",
       "        vertical-align: top;\n",
       "    }\n",
       "\n",
       "    .dataframe thead th {\n",
       "        text-align: right;\n",
       "    }\n",
       "</style>\n",
       "<table border=\"1\" class=\"dataframe\">\n",
       "  <thead>\n",
       "    <tr style=\"text-align: right;\">\n",
       "      <th></th>\n",
       "      <th>brainwt</th>\n",
       "      <th>bodywt</th>\n",
       "      <th>animal</th>\n",
       "    </tr>\n",
       "  </thead>\n",
       "  <tbody>\n",
       "    <tr>\n",
       "      <th>19</th>\n",
       "      <td>0.023</td>\n",
       "      <td>0.30</td>\n",
       "      <td>Big_brown_bat</td>\n",
       "    </tr>\n",
       "    <tr>\n",
       "      <th>39</th>\n",
       "      <td>0.010</td>\n",
       "      <td>0.25</td>\n",
       "      <td>Little_brown_bat</td>\n",
       "    </tr>\n",
       "  </tbody>\n",
       "</table>\n",
       "</div>"
      ],
      "text/plain": [
       "    brainwt  bodywt            animal\n",
       "19    0.023    0.30     Big_brown_bat\n",
       "39    0.010    0.25  Little_brown_bat"
      ]
     },
     "execution_count": 15,
     "metadata": {},
     "output_type": "execute_result"
    }
   ],
   "source": [
    "#Para seleccionar alguna str puedes llamar la columna\n",
    "animals[animals['animal'].str.contains(\"bat\")]\n"
   ]
  },
  {
   "cell_type": "code",
   "execution_count": 17,
   "metadata": {},
   "outputs": [
    {
     "data": {
      "text/html": [
       "<div>\n",
       "<style scoped>\n",
       "    .dataframe tbody tr th:only-of-type {\n",
       "        vertical-align: middle;\n",
       "    }\n",
       "\n",
       "    .dataframe tbody tr th {\n",
       "        vertical-align: top;\n",
       "    }\n",
       "\n",
       "    .dataframe thead th {\n",
       "        text-align: right;\n",
       "    }\n",
       "</style>\n",
       "<table border=\"1\" class=\"dataframe\">\n",
       "  <thead>\n",
       "    <tr style=\"text-align: right;\">\n",
       "      <th></th>\n",
       "      <th>brainwt</th>\n",
       "      <th>bodywt</th>\n",
       "      <th>animal</th>\n",
       "    </tr>\n",
       "  </thead>\n",
       "  <tbody>\n",
       "    <tr>\n",
       "      <th>19</th>\n",
       "      <td>0.023</td>\n",
       "      <td>0.30</td>\n",
       "      <td>Big_brown_bat</td>\n",
       "    </tr>\n",
       "    <tr>\n",
       "      <th>39</th>\n",
       "      <td>0.010</td>\n",
       "      <td>0.25</td>\n",
       "      <td>Little_brown_bat</td>\n",
       "    </tr>\n",
       "  </tbody>\n",
       "</table>\n",
       "</div>"
      ],
      "text/plain": [
       "    brainwt  bodywt            animal\n",
       "19    0.023    0.30     Big_brown_bat\n",
       "39    0.010    0.25  Little_brown_bat"
      ]
     },
     "execution_count": 17,
     "metadata": {},
     "output_type": "execute_result"
    }
   ],
   "source": [
    "#O también puedes llamar con punto\n",
    "animals[animals.animal.str.contains(\"bat\")]"
   ]
  },
  {
   "cell_type": "code",
   "execution_count": 20,
   "metadata": {},
   "outputs": [
    {
     "data": {
      "text/html": [
       "<div>\n",
       "<style scoped>\n",
       "    .dataframe tbody tr th:only-of-type {\n",
       "        vertical-align: middle;\n",
       "    }\n",
       "\n",
       "    .dataframe tbody tr th {\n",
       "        vertical-align: top;\n",
       "    }\n",
       "\n",
       "    .dataframe thead th {\n",
       "        text-align: right;\n",
       "    }\n",
       "</style>\n",
       "<table border=\"1\" class=\"dataframe\">\n",
       "  <thead>\n",
       "    <tr style=\"text-align: right;\">\n",
       "      <th></th>\n",
       "      <th>brainwt</th>\n",
       "      <th>bodywt</th>\n",
       "      <th>animal</th>\n",
       "    </tr>\n",
       "  </thead>\n",
       "  <tbody>\n",
       "    <tr>\n",
       "      <th>1</th>\n",
       "      <td>0.480</td>\n",
       "      <td>15.499</td>\n",
       "      <td>Owl_monkey</td>\n",
       "    </tr>\n",
       "    <tr>\n",
       "      <th>10</th>\n",
       "      <td>0.101</td>\n",
       "      <td>4.000</td>\n",
       "      <td>Ground_squirrel</td>\n",
       "    </tr>\n",
       "    <tr>\n",
       "      <th>13</th>\n",
       "      <td>0.005</td>\n",
       "      <td>0.140</td>\n",
       "      <td>Lesser_short-tailed-shrew</td>\n",
       "    </tr>\n",
       "    <tr>\n",
       "      <th>34</th>\n",
       "      <td>6.800</td>\n",
       "      <td>179.003</td>\n",
       "      <td>Rhesus_monkey</td>\n",
       "    </tr>\n",
       "  </tbody>\n",
       "</table>\n",
       "</div>"
      ],
      "text/plain": [
       "    brainwt   bodywt                     animal\n",
       "1     0.480   15.499                 Owl_monkey\n",
       "10    0.101    4.000            Ground_squirrel\n",
       "13    0.005    0.140  Lesser_short-tailed-shrew\n",
       "34    6.800  179.003              Rhesus_monkey"
      ]
     },
     "execution_count": 20,
     "metadata": {},
     "output_type": "execute_result"
    }
   ],
   "source": [
    "animals[animals.bodywt > 25 * animals.brainwt]"
   ]
  },
  {
   "cell_type": "markdown",
   "metadata": {},
   "source": [
    "# Scypy"
   ]
  },
  {
   "cell_type": "code",
   "execution_count": 24,
   "metadata": {},
   "outputs": [],
   "source": [
    "import scipy\n",
    "import matplotlib\n",
    "from scipy.stats import norm"
   ]
  },
  {
   "cell_type": "code",
   "execution_count": 26,
   "metadata": {},
   "outputs": [
    {
     "data": {
      "text/plain": [
       "0.5"
      ]
     },
     "execution_count": 26,
     "metadata": {},
     "output_type": "execute_result"
    }
   ],
   "source": [
    "normal = norm()\n",
    "norm.cdf(0)\n",
    "normal.cdf(0)"
   ]
  },
  {
   "cell_type": "code",
   "execution_count": 30,
   "metadata": {},
   "outputs": [
    {
     "data": {
      "text/plain": [
       "0.0477903522728147"
      ]
     },
     "execution_count": 30,
     "metadata": {},
     "output_type": "execute_result"
    }
   ],
   "source": [
    "nomalr2 = norm(lo =0.5, scale 0.3)  #primer valor es mean, segundo std\n",
    "nomalr2.cdf(0)  #cumulative distribution function"
   ]
  },
  {
   "cell_type": "code",
   "execution_count": 42,
   "metadata": {},
   "outputs": [],
   "source": [
    "#resolver sistema de ecuaciones\n",
    "from scipy.linalg import solve\n",
    "import numpy as np"
   ]
  },
  {
   "cell_type": "code",
   "execution_count": 47,
   "metadata": {},
   "outputs": [
    {
     "data": {
      "text/plain": [
       "array([2., 1.])"
      ]
     },
     "execution_count": 47,
     "metadata": {},
     "output_type": "execute_result"
    }
   ],
   "source": [
    "a = np.array([[2,1],[3,7]])\n",
    "b = np.array([5,13])\n",
    "x = solve(a, b)\n",
    "x"
   ]
  },
  {
   "cell_type": "code",
   "execution_count": 53,
   "metadata": {},
   "outputs": [
    {
     "data": {
      "text/plain": [
       "array([-1.,  3., -2.])"
      ]
     },
     "execution_count": 53,
     "metadata": {},
     "output_type": "execute_result"
    }
   ],
   "source": [
    "a = [[2,1,-3], [5,-4,1], [1,-1,-4]]\n",
    "b = [7,-19,4]\n",
    "x = solve(a, b)\n",
    "x"
   ]
  },
  {
   "cell_type": "code",
   "execution_count": 54,
   "metadata": {},
   "outputs": [],
   "source": [
    "#Extrapolar\n",
    "from scipy.interpolate import interp1d"
   ]
  },
  {
   "cell_type": "code",
   "execution_count": 63,
   "metadata": {},
   "outputs": [],
   "source": [
    "x = np.arange(0, 11, 1) #del cero al 11 de uno en uno\n",
    "y = np.cos(x)\n",
    "f = interp1d(x,y, 'quadratic') #si le quitas el quadratic la hace más puntiagudos\n"
   ]
  },
  {
   "cell_type": "code",
   "execution_count": 61,
   "metadata": {},
   "outputs": [],
   "source": [
    "xnew = np.arange(0,10.25, 0.25) #genera nuevo range de 0 inclusivo, 10.25 exclusivo de 0.25 en 0.25"
   ]
  },
  {
   "cell_type": "code",
   "execution_count": 59,
   "metadata": {},
   "outputs": [],
   "source": [
    "import matplotlib.pyplot as plt"
   ]
  },
  {
   "cell_type": "code",
   "execution_count": 64,
   "metadata": {},
   "outputs": [
    {
     "data": {
      "text/plain": [
       "[<matplotlib.lines.Line2D at 0x2ce7276d438>]"
      ]
     },
     "execution_count": 64,
     "metadata": {},
     "output_type": "execute_result"
    },
    {
     "data": {
      "image/png": "[encoded data removed]",
      "text/plain": [
       "<Figure size 432x288 with 1 Axes>"
      ]
     },
     "metadata": {
      "needs_background": "light"
     },
     "output_type": "display_data"
    }
   ],
   "source": [
    "plt.plot(xnew, f(xnew))"
   ]
  },
  {
   "cell_type": "markdown",
   "metadata": {},
   "source": [
    "# Otros cálculos avanzados"
   ]
  },
  {
   "cell_type": "code",
   "execution_count": 89,
   "metadata": {},
   "outputs": [
    {
     "data": {
      "text/html": [
       "<div>\n",
       "<style scoped>\n",
       "    .dataframe tbody tr th:only-of-type {\n",
       "        vertical-align: middle;\n",
       "    }\n",
       "\n",
       "    .dataframe tbody tr th {\n",
       "        vertical-align: top;\n",
       "    }\n",
       "\n",
       "    .dataframe thead th {\n",
       "        text-align: right;\n",
       "    }\n",
       "</style>\n",
       "<table border=\"1\" class=\"dataframe\">\n",
       "  <thead>\n",
       "    <tr style=\"text-align: right;\">\n",
       "      <th></th>\n",
       "      <th>brainwt</th>\n",
       "      <th>bodywt</th>\n",
       "      <th>animal</th>\n",
       "      <th>bodywtkg</th>\n",
       "      <th>wtratio</th>\n",
       "      <th>wtratio_zerocheck</th>\n",
       "      <th>suma</th>\n",
       "      <th>sumaX</th>\n",
       "    </tr>\n",
       "  </thead>\n",
       "  <tbody>\n",
       "    <tr>\n",
       "      <th>0</th>\n",
       "      <td>3.385</td>\n",
       "      <td>44.500</td>\n",
       "      <td>Arctic_fox</td>\n",
       "      <td>20.02500</td>\n",
       "      <td>13.146233</td>\n",
       "      <td>13.146233</td>\n",
       "      <td>188.404934</td>\n",
       "      <td>NaN</td>\n",
       "    </tr>\n",
       "    <tr>\n",
       "      <th>1</th>\n",
       "      <td>0.480</td>\n",
       "      <td>15.499</td>\n",
       "      <td>Owl_monkey</td>\n",
       "      <td>6.97455</td>\n",
       "      <td>32.289583</td>\n",
       "      <td>32.289583</td>\n",
       "      <td>175.065433</td>\n",
       "      <td>NaN</td>\n",
       "    </tr>\n",
       "    <tr>\n",
       "      <th>2</th>\n",
       "      <td>1.350</td>\n",
       "      <td>8.100</td>\n",
       "      <td>Beaver</td>\n",
       "      <td>3.64500</td>\n",
       "      <td>6.000000</td>\n",
       "      <td>6.000000</td>\n",
       "      <td>50.190000</td>\n",
       "      <td>NaN</td>\n",
       "    </tr>\n",
       "    <tr>\n",
       "      <th>3</th>\n",
       "      <td>464.983</td>\n",
       "      <td>423.012</td>\n",
       "      <td>Cow</td>\n",
       "      <td>190.35540</td>\n",
       "      <td>0.909736</td>\n",
       "      <td>0.909736</td>\n",
       "      <td>2160.339746</td>\n",
       "      <td>NaN</td>\n",
       "    </tr>\n",
       "    <tr>\n",
       "      <th>4</th>\n",
       "      <td>36.328</td>\n",
       "      <td>119.498</td>\n",
       "      <td>Gray_wolf</td>\n",
       "      <td>53.77410</td>\n",
       "      <td>3.289419</td>\n",
       "      <td>3.289419</td>\n",
       "      <td>432.357875</td>\n",
       "      <td>NaN</td>\n",
       "    </tr>\n",
       "    <tr>\n",
       "      <th>5</th>\n",
       "      <td>27.660</td>\n",
       "      <td>114.996</td>\n",
       "      <td>Goat</td>\n",
       "      <td>51.74820</td>\n",
       "      <td>4.157484</td>\n",
       "      <td>4.157484</td>\n",
       "      <td>405.438335</td>\n",
       "      <td>NaN</td>\n",
       "    </tr>\n",
       "    <tr>\n",
       "      <th>6</th>\n",
       "      <td>14.831</td>\n",
       "      <td>98.199</td>\n",
       "      <td>Roe_deer</td>\n",
       "      <td>44.18955</td>\n",
       "      <td>6.621199</td>\n",
       "      <td>6.621199</td>\n",
       "      <td>340.923895</td>\n",
       "      <td>NaN</td>\n",
       "    </tr>\n",
       "    <tr>\n",
       "      <th>7</th>\n",
       "      <td>1.040</td>\n",
       "      <td>5.500</td>\n",
       "      <td>Guinea_pig</td>\n",
       "      <td>2.47500</td>\n",
       "      <td>5.288462</td>\n",
       "      <td>5.288462</td>\n",
       "      <td>39.183846</td>\n",
       "      <td>NaN</td>\n",
       "    </tr>\n",
       "    <tr>\n",
       "      <th>8</th>\n",
       "      <td>4.190</td>\n",
       "      <td>57.998</td>\n",
       "      <td>Vervet</td>\n",
       "      <td>26.09910</td>\n",
       "      <td>13.842005</td>\n",
       "      <td>13.842005</td>\n",
       "      <td>231.942219</td>\n",
       "      <td>NaN</td>\n",
       "    </tr>\n",
       "    <tr>\n",
       "      <th>9</th>\n",
       "      <td>0.425</td>\n",
       "      <td>6.400</td>\n",
       "      <td>Chinchilla</td>\n",
       "      <td>2.88000</td>\n",
       "      <td>15.058824</td>\n",
       "      <td>15.058824</td>\n",
       "      <td>79.645294</td>\n",
       "      <td>NaN</td>\n",
       "    </tr>\n",
       "  </tbody>\n",
       "</table>\n",
       "</div>"
      ],
      "text/plain": [
       "   brainwt   bodywt      animal   bodywtkg    wtratio  wtratio_zerocheck  \\\n",
       "0    3.385   44.500  Arctic_fox   20.02500  13.146233          13.146233   \n",
       "1    0.480   15.499  Owl_monkey    6.97455  32.289583          32.289583   \n",
       "2    1.350    8.100      Beaver    3.64500   6.000000           6.000000   \n",
       "3  464.983  423.012         Cow  190.35540   0.909736           0.909736   \n",
       "4   36.328  119.498   Gray_wolf   53.77410   3.289419           3.289419   \n",
       "5   27.660  114.996        Goat   51.74820   4.157484           4.157484   \n",
       "6   14.831   98.199    Roe_deer   44.18955   6.621199           6.621199   \n",
       "7    1.040    5.500  Guinea_pig    2.47500   5.288462           5.288462   \n",
       "8    4.190   57.998      Vervet   26.09910  13.842005          13.842005   \n",
       "9    0.425    6.400  Chinchilla    2.88000  15.058824          15.058824   \n",
       "\n",
       "          suma sumaX  \n",
       "0   188.404934   NaN  \n",
       "1   175.065433   NaN  \n",
       "2    50.190000   NaN  \n",
       "3  2160.339746   NaN  \n",
       "4   432.357875   NaN  \n",
       "5   405.438335   NaN  \n",
       "6   340.923895   NaN  \n",
       "7    39.183846   NaN  \n",
       "8   231.942219   NaN  \n",
       "9    79.645294   NaN  "
      ]
     },
     "execution_count": 89,
     "metadata": {},
     "output_type": "execute_result"
    }
   ],
   "source": [
    "animals['bodywtkg'] = animals.bodywt * 0.45\n",
    "animals.head(10)"
   ]
  },
  {
   "cell_type": "code",
   "execution_count": 70,
   "metadata": {},
   "outputs": [
    {
     "data": {
      "text/html": [
       "<div>\n",
       "<style scoped>\n",
       "    .dataframe tbody tr th:only-of-type {\n",
       "        vertical-align: middle;\n",
       "    }\n",
       "\n",
       "    .dataframe tbody tr th {\n",
       "        vertical-align: top;\n",
       "    }\n",
       "\n",
       "    .dataframe thead th {\n",
       "        text-align: right;\n",
       "    }\n",
       "</style>\n",
       "<table border=\"1\" class=\"dataframe\">\n",
       "  <thead>\n",
       "    <tr style=\"text-align: right;\">\n",
       "      <th></th>\n",
       "      <th>brainwt</th>\n",
       "      <th>bodywt</th>\n",
       "      <th>animal</th>\n",
       "      <th>bodywtkg</th>\n",
       "      <th>wtratio</th>\n",
       "    </tr>\n",
       "  </thead>\n",
       "  <tbody>\n",
       "    <tr>\n",
       "      <th>0</th>\n",
       "      <td>3.385</td>\n",
       "      <td>44.500</td>\n",
       "      <td>Arctic_fox</td>\n",
       "      <td>20.02500</td>\n",
       "      <td>13.146233</td>\n",
       "    </tr>\n",
       "    <tr>\n",
       "      <th>1</th>\n",
       "      <td>0.480</td>\n",
       "      <td>15.499</td>\n",
       "      <td>Owl_monkey</td>\n",
       "      <td>6.97455</td>\n",
       "      <td>32.289583</td>\n",
       "    </tr>\n",
       "    <tr>\n",
       "      <th>2</th>\n",
       "      <td>1.350</td>\n",
       "      <td>8.100</td>\n",
       "      <td>Beaver</td>\n",
       "      <td>3.64500</td>\n",
       "      <td>6.000000</td>\n",
       "    </tr>\n",
       "    <tr>\n",
       "      <th>3</th>\n",
       "      <td>464.983</td>\n",
       "      <td>423.012</td>\n",
       "      <td>Cow</td>\n",
       "      <td>190.35540</td>\n",
       "      <td>0.909736</td>\n",
       "    </tr>\n",
       "  </tbody>\n",
       "</table>\n",
       "</div>"
      ],
      "text/plain": [
       "   brainwt   bodywt      animal   bodywtkg    wtratio\n",
       "0    3.385   44.500  Arctic_fox   20.02500  13.146233\n",
       "1    0.480   15.499  Owl_monkey    6.97455  32.289583\n",
       "2    1.350    8.100      Beaver    3.64500   6.000000\n",
       "3  464.983  423.012         Cow  190.35540   0.909736"
      ]
     },
     "execution_count": 70,
     "metadata": {},
     "output_type": "execute_result"
    }
   ],
   "source": [
    "animals['wtratio'] = animals.bodywt/animals.brainwt\n",
    "animals.head(4)"
   ]
  },
  {
   "cell_type": "code",
   "execution_count": 74,
   "metadata": {},
   "outputs": [
    {
     "data": {
      "text/html": [
       "<div>\n",
       "<style scoped>\n",
       "    .dataframe tbody tr th:only-of-type {\n",
       "        vertical-align: middle;\n",
       "    }\n",
       "\n",
       "    .dataframe tbody tr th {\n",
       "        vertical-align: top;\n",
       "    }\n",
       "\n",
       "    .dataframe thead th {\n",
       "        text-align: right;\n",
       "    }\n",
       "</style>\n",
       "<table border=\"1\" class=\"dataframe\">\n",
       "  <thead>\n",
       "    <tr style=\"text-align: right;\">\n",
       "      <th></th>\n",
       "      <th>brainwt</th>\n",
       "      <th>bodywt</th>\n",
       "      <th>animal</th>\n",
       "      <th>bodywtkg</th>\n",
       "      <th>wtratio</th>\n",
       "      <th>wtratio_zerocheck</th>\n",
       "    </tr>\n",
       "  </thead>\n",
       "  <tbody>\n",
       "    <tr>\n",
       "      <th>0</th>\n",
       "      <td>3.385</td>\n",
       "      <td>44.500</td>\n",
       "      <td>Arctic_fox</td>\n",
       "      <td>20.02500</td>\n",
       "      <td>13.146233</td>\n",
       "      <td>13.146233</td>\n",
       "    </tr>\n",
       "    <tr>\n",
       "      <th>1</th>\n",
       "      <td>0.480</td>\n",
       "      <td>15.499</td>\n",
       "      <td>Owl_monkey</td>\n",
       "      <td>6.97455</td>\n",
       "      <td>32.289583</td>\n",
       "      <td>32.289583</td>\n",
       "    </tr>\n",
       "    <tr>\n",
       "      <th>2</th>\n",
       "      <td>1.350</td>\n",
       "      <td>8.100</td>\n",
       "      <td>Beaver</td>\n",
       "      <td>3.64500</td>\n",
       "      <td>6.000000</td>\n",
       "      <td>6.000000</td>\n",
       "    </tr>\n",
       "  </tbody>\n",
       "</table>\n",
       "</div>"
      ],
      "text/plain": [
       "   brainwt  bodywt      animal  bodywtkg    wtratio  wtratio_zerocheck\n",
       "0    3.385  44.500  Arctic_fox  20.02500  13.146233          13.146233\n",
       "1    0.480  15.499  Owl_monkey   6.97455  32.289583          32.289583\n",
       "2    1.350   8.100      Beaver   3.64500   6.000000           6.000000"
      ]
     },
     "execution_count": 74,
     "metadata": {},
     "output_type": "execute_result"
    }
   ],
   "source": [
    "#Condicionales\n",
    "animals[\"wtratio_zerocheck\"] = np.where(animals.brainwt !=0, animals.bodywt/animals.brainwt, 0)\n",
    "#Arriba en el where está la conidición, si es TRUE hace el segundo elemento, si no pone \"0\"\n",
    "animals.head(3)"
   ]
  },
  {
   "cell_type": "code",
   "execution_count": 76,
   "metadata": {
    "scrolled": true
   },
   "outputs": [
    {
     "data": {
      "text/html": [
       "<div>\n",
       "<style scoped>\n",
       "    .dataframe tbody tr th:only-of-type {\n",
       "        vertical-align: middle;\n",
       "    }\n",
       "\n",
       "    .dataframe tbody tr th {\n",
       "        vertical-align: top;\n",
       "    }\n",
       "\n",
       "    .dataframe thead th {\n",
       "        text-align: right;\n",
       "    }\n",
       "</style>\n",
       "<table border=\"1\" class=\"dataframe\">\n",
       "  <thead>\n",
       "    <tr style=\"text-align: right;\">\n",
       "      <th></th>\n",
       "      <th>brainwt</th>\n",
       "      <th>bodywt</th>\n",
       "      <th>animal</th>\n",
       "      <th>bodywtkg</th>\n",
       "      <th>wtratio</th>\n",
       "      <th>wtratio_zerocheck</th>\n",
       "      <th>suma</th>\n",
       "    </tr>\n",
       "  </thead>\n",
       "  <tbody>\n",
       "    <tr>\n",
       "      <th>0</th>\n",
       "      <td>3.385</td>\n",
       "      <td>44.500</td>\n",
       "      <td>Arctic_fox</td>\n",
       "      <td>20.02500</td>\n",
       "      <td>13.146233</td>\n",
       "      <td>13.146233</td>\n",
       "      <td>188.404934</td>\n",
       "    </tr>\n",
       "    <tr>\n",
       "      <th>1</th>\n",
       "      <td>0.480</td>\n",
       "      <td>15.499</td>\n",
       "      <td>Owl_monkey</td>\n",
       "      <td>6.97455</td>\n",
       "      <td>32.289583</td>\n",
       "      <td>32.289583</td>\n",
       "      <td>175.065433</td>\n",
       "    </tr>\n",
       "    <tr>\n",
       "      <th>2</th>\n",
       "      <td>1.350</td>\n",
       "      <td>8.100</td>\n",
       "      <td>Beaver</td>\n",
       "      <td>3.64500</td>\n",
       "      <td>6.000000</td>\n",
       "      <td>6.000000</td>\n",
       "      <td>50.190000</td>\n",
       "    </tr>\n",
       "  </tbody>\n",
       "</table>\n",
       "</div>"
      ],
      "text/plain": [
       "   brainwt  bodywt      animal  bodywtkg    wtratio  wtratio_zerocheck  \\\n",
       "0    3.385  44.500  Arctic_fox  20.02500  13.146233          13.146233   \n",
       "1    0.480  15.499  Owl_monkey   6.97455  32.289583          32.289583   \n",
       "2    1.350   8.100      Beaver   3.64500   6.000000           6.000000   \n",
       "\n",
       "         suma  \n",
       "0  188.404934  \n",
       "1  175.065433  \n",
       "2   50.190000  "
      ]
     },
     "execution_count": 76,
     "metadata": {},
     "output_type": "execute_result"
    }
   ],
   "source": [
    "animals['suma'] = animals.sum(axis=1)\n",
    "animals.head(3)"
   ]
  },
  {
   "cell_type": "markdown",
   "metadata": {},
   "source": [
    "# Grouping"
   ]
  },
  {
   "cell_type": "code",
   "execution_count": 80,
   "metadata": {},
   "outputs": [],
   "source": [
    "vehiculos = pd.read_csv('C:/Users/Ramiro Antonio/Documents/ironhack_labs/lab-subsetting-and-descriptive-stats/your-code/vehicles.csv')"
   ]
  },
  {
   "cell_type": "code",
   "execution_count": 86,
   "metadata": {},
   "outputs": [
    {
     "data": {
      "text/html": [
       "<div>\n",
       "<style scoped>\n",
       "    .dataframe tbody tr th:only-of-type {\n",
       "        vertical-align: middle;\n",
       "    }\n",
       "\n",
       "    .dataframe tbody tr th {\n",
       "        vertical-align: top;\n",
       "    }\n",
       "\n",
       "    .dataframe thead th {\n",
       "        text-align: right;\n",
       "    }\n",
       "</style>\n",
       "<table border=\"1\" class=\"dataframe\">\n",
       "  <thead>\n",
       "    <tr style=\"text-align: right;\">\n",
       "      <th></th>\n",
       "      <th>Highway MPG</th>\n",
       "      <th>City MPG</th>\n",
       "      <th>Combined MPG</th>\n",
       "    </tr>\n",
       "    <tr>\n",
       "      <th>Transmission</th>\n",
       "      <th></th>\n",
       "      <th></th>\n",
       "      <th></th>\n",
       "    </tr>\n",
       "  </thead>\n",
       "  <tbody>\n",
       "    <tr>\n",
       "      <th>Auto (AV)</th>\n",
       "      <td>40.0</td>\n",
       "      <td>35.0</td>\n",
       "      <td>37.0</td>\n",
       "    </tr>\n",
       "    <tr>\n",
       "      <th>Auto (AV-S6)</th>\n",
       "      <td>25.0</td>\n",
       "      <td>22.0</td>\n",
       "      <td>23.0</td>\n",
       "    </tr>\n",
       "    <tr>\n",
       "      <th>Auto (AV-S8)</th>\n",
       "      <td>22.0</td>\n",
       "      <td>20.0</td>\n",
       "      <td>21.0</td>\n",
       "    </tr>\n",
       "    <tr>\n",
       "      <th>Auto(A1)</th>\n",
       "      <td>37.0</td>\n",
       "      <td>41.0</td>\n",
       "      <td>39.0</td>\n",
       "    </tr>\n",
       "  </tbody>\n",
       "</table>\n",
       "</div>"
      ],
      "text/plain": [
       "              Highway MPG  City MPG  Combined MPG\n",
       "Transmission                                     \n",
       "Auto (AV)            40.0      35.0          37.0\n",
       "Auto (AV-S6)         25.0      22.0          23.0\n",
       "Auto (AV-S8)         22.0      20.0          21.0\n",
       "Auto(A1)             37.0      41.0          39.0"
      ]
     },
     "execution_count": 86,
     "metadata": {},
     "output_type": "execute_result"
    }
   ],
   "source": [
    "vehiculos.groupby(['Transmission'])['Highway MPG', 'City MPG', 'Combined MPG'].mean().head(4)\n",
    "\n",
    "#Te agrupa por transmisión y te muestra mpg (metros por galón) y te arroja la muestra"
   ]
  },
  {
   "cell_type": "code",
   "execution_count": 88,
   "metadata": {},
   "outputs": [
    {
     "data": {
      "text/plain": [
       "Fuel Type  Cylinders\n",
       "CNG        4.0          253.197321\n",
       "           6.0          417.030882\n",
       "           8.0          568.070913\n",
       "Diesel     4.0          308.484848\n",
       "           5.0          391.538462\n",
       "Name: CO2 Emission Grams/Mile, dtype: float64"
      ]
     },
     "execution_count": 88,
     "metadata": {},
     "output_type": "execute_result"
    }
   ],
   "source": [
    "vehiculos.groupby(['Fuel Type', 'Cylinders'])['CO2 Emission Grams/Mile'].median().head(5)"
   ]
  },
  {
   "cell_type": "code",
   "execution_count": 91,
   "metadata": {},
   "outputs": [
    {
     "data": {
      "text/html": [
       "<div>\n",
       "<style scoped>\n",
       "    .dataframe tbody tr th:only-of-type {\n",
       "        vertical-align: middle;\n",
       "    }\n",
       "\n",
       "    .dataframe tbody tr th {\n",
       "        vertical-align: top;\n",
       "    }\n",
       "\n",
       "    .dataframe thead th {\n",
       "        text-align: right;\n",
       "    }\n",
       "</style>\n",
       "<table border=\"1\" class=\"dataframe\">\n",
       "  <thead>\n",
       "    <tr style=\"text-align: right;\">\n",
       "      <th></th>\n",
       "      <th></th>\n",
       "      <th>mean</th>\n",
       "      <th>median</th>\n",
       "      <th>std</th>\n",
       "      <th>max</th>\n",
       "    </tr>\n",
       "    <tr>\n",
       "      <th>Fuel Type</th>\n",
       "      <th>Cylinders</th>\n",
       "      <th></th>\n",
       "      <th></th>\n",
       "      <th></th>\n",
       "      <th></th>\n",
       "    </tr>\n",
       "  </thead>\n",
       "  <tbody>\n",
       "    <tr>\n",
       "      <th rowspan=\"3\" valign=\"top\">CNG</th>\n",
       "      <th>4.0</th>\n",
       "      <td>27.619048</td>\n",
       "      <td>28.0</td>\n",
       "      <td>2.578298</td>\n",
       "      <td>31</td>\n",
       "    </tr>\n",
       "    <tr>\n",
       "      <th>6.0</th>\n",
       "      <td>17.000000</td>\n",
       "      <td>17.0</td>\n",
       "      <td>0.000000</td>\n",
       "      <td>17</td>\n",
       "    </tr>\n",
       "    <tr>\n",
       "      <th>8.0</th>\n",
       "      <td>12.694444</td>\n",
       "      <td>12.5</td>\n",
       "      <td>2.214491</td>\n",
       "      <td>18</td>\n",
       "    </tr>\n",
       "    <tr>\n",
       "      <th rowspan=\"5\" valign=\"top\">Diesel</th>\n",
       "      <th>4.0</th>\n",
       "      <td>31.468553</td>\n",
       "      <td>33.0</td>\n",
       "      <td>4.574372</td>\n",
       "      <td>40</td>\n",
       "    </tr>\n",
       "    <tr>\n",
       "      <th>5.0</th>\n",
       "      <td>24.470588</td>\n",
       "      <td>26.0</td>\n",
       "      <td>3.572773</td>\n",
       "      <td>28</td>\n",
       "    </tr>\n",
       "    <tr>\n",
       "      <th>6.0</th>\n",
       "      <td>23.754967</td>\n",
       "      <td>23.0</td>\n",
       "      <td>3.015442</td>\n",
       "      <td>30</td>\n",
       "    </tr>\n",
       "    <tr>\n",
       "      <th>8.0</th>\n",
       "      <td>17.384798</td>\n",
       "      <td>17.0</td>\n",
       "      <td>1.519448</td>\n",
       "      <td>21</td>\n",
       "    </tr>\n",
       "    <tr>\n",
       "      <th>10.0</th>\n",
       "      <td>17.250000</td>\n",
       "      <td>17.0</td>\n",
       "      <td>0.500000</td>\n",
       "      <td>18</td>\n",
       "    </tr>\n",
       "    <tr>\n",
       "      <th rowspan=\"3\" valign=\"top\">Gasoline or E85</th>\n",
       "      <th>4.0</th>\n",
       "      <td>25.062992</td>\n",
       "      <td>25.0</td>\n",
       "      <td>3.020428</td>\n",
       "      <td>33</td>\n",
       "    </tr>\n",
       "    <tr>\n",
       "      <th>6.0</th>\n",
       "      <td>19.763231</td>\n",
       "      <td>20.0</td>\n",
       "      <td>1.906234</td>\n",
       "      <td>23</td>\n",
       "    </tr>\n",
       "    <tr>\n",
       "      <th>8.0</th>\n",
       "      <td>15.121298</td>\n",
       "      <td>15.0</td>\n",
       "      <td>1.632807</td>\n",
       "      <td>19</td>\n",
       "    </tr>\n",
       "    <tr>\n",
       "      <th rowspan=\"3\" valign=\"top\">Gasoline or natural gas</th>\n",
       "      <th>4.0</th>\n",
       "      <td>23.200000</td>\n",
       "      <td>23.0</td>\n",
       "      <td>0.836660</td>\n",
       "      <td>24</td>\n",
       "    </tr>\n",
       "    <tr>\n",
       "      <th>6.0</th>\n",
       "      <td>20.000000</td>\n",
       "      <td>20.0</td>\n",
       "      <td>0.000000</td>\n",
       "      <td>20</td>\n",
       "    </tr>\n",
       "    <tr>\n",
       "      <th>8.0</th>\n",
       "      <td>11.615385</td>\n",
       "      <td>12.0</td>\n",
       "      <td>0.767948</td>\n",
       "      <td>13</td>\n",
       "    </tr>\n",
       "    <tr>\n",
       "      <th>Gasoline or propane</th>\n",
       "      <th>8.0</th>\n",
       "      <td>13.500000</td>\n",
       "      <td>13.5</td>\n",
       "      <td>1.603567</td>\n",
       "      <td>15</td>\n",
       "    </tr>\n",
       "    <tr>\n",
       "      <th rowspan=\"2\" valign=\"top\">Midgrade</th>\n",
       "      <th>6.0</th>\n",
       "      <td>22.000000</td>\n",
       "      <td>21.0</td>\n",
       "      <td>1.414214</td>\n",
       "      <td>24</td>\n",
       "    </tr>\n",
       "    <tr>\n",
       "      <th>8.0</th>\n",
       "      <td>17.043478</td>\n",
       "      <td>17.0</td>\n",
       "      <td>1.365917</td>\n",
       "      <td>19</td>\n",
       "    </tr>\n",
       "    <tr>\n",
       "      <th rowspan=\"9\" valign=\"top\">Premium</th>\n",
       "      <th>2.0</th>\n",
       "      <td>18.272727</td>\n",
       "      <td>18.0</td>\n",
       "      <td>0.455842</td>\n",
       "      <td>19</td>\n",
       "    </tr>\n",
       "    <tr>\n",
       "      <th>3.0</th>\n",
       "      <td>34.961538</td>\n",
       "      <td>36.0</td>\n",
       "      <td>1.684773</td>\n",
       "      <td>36</td>\n",
       "    </tr>\n",
       "    <tr>\n",
       "      <th>4.0</th>\n",
       "      <td>23.325777</td>\n",
       "      <td>23.0</td>\n",
       "      <td>3.620906</td>\n",
       "      <td>45</td>\n",
       "    </tr>\n",
       "    <tr>\n",
       "      <th>5.0</th>\n",
       "      <td>20.463087</td>\n",
       "      <td>20.0</td>\n",
       "      <td>1.297620</td>\n",
       "      <td>23</td>\n",
       "    </tr>\n",
       "    <tr>\n",
       "      <th>6.0</th>\n",
       "      <td>19.808354</td>\n",
       "      <td>20.0</td>\n",
       "      <td>2.388879</td>\n",
       "      <td>31</td>\n",
       "    </tr>\n",
       "    <tr>\n",
       "      <th>8.0</th>\n",
       "      <td>16.255311</td>\n",
       "      <td>17.0</td>\n",
       "      <td>2.411833</td>\n",
       "      <td>22</td>\n",
       "    </tr>\n",
       "    <tr>\n",
       "      <th>10.0</th>\n",
       "      <td>13.985816</td>\n",
       "      <td>14.0</td>\n",
       "      <td>1.760624</td>\n",
       "      <td>17</td>\n",
       "    </tr>\n",
       "    <tr>\n",
       "      <th>12.0</th>\n",
       "      <td>12.988119</td>\n",
       "      <td>13.0</td>\n",
       "      <td>1.764919</td>\n",
       "      <td>17</td>\n",
       "    </tr>\n",
       "    <tr>\n",
       "      <th>16.0</th>\n",
       "      <td>10.000000</td>\n",
       "      <td>10.0</td>\n",
       "      <td>0.000000</td>\n",
       "      <td>10</td>\n",
       "    </tr>\n",
       "    <tr>\n",
       "      <th rowspan=\"4\" valign=\"top\">Premium Gas or Electricity</th>\n",
       "      <th>2.0</th>\n",
       "      <td>39.000000</td>\n",
       "      <td>39.0</td>\n",
       "      <td>0.000000</td>\n",
       "      <td>39</td>\n",
       "    </tr>\n",
       "    <tr>\n",
       "      <th>4.0</th>\n",
       "      <td>33.300000</td>\n",
       "      <td>35.0</td>\n",
       "      <td>5.355164</td>\n",
       "      <td>37</td>\n",
       "    </tr>\n",
       "    <tr>\n",
       "      <th>6.0</th>\n",
       "      <td>22.000000</td>\n",
       "      <td>22.0</td>\n",
       "      <td>0.000000</td>\n",
       "      <td>22</td>\n",
       "    </tr>\n",
       "    <tr>\n",
       "      <th>8.0</th>\n",
       "      <td>22.000000</td>\n",
       "      <td>22.0</td>\n",
       "      <td>NaN</td>\n",
       "      <td>22</td>\n",
       "    </tr>\n",
       "    <tr>\n",
       "      <th rowspan=\"4\" valign=\"top\">Premium and Electricity</th>\n",
       "      <th>3.0</th>\n",
       "      <td>28.000000</td>\n",
       "      <td>28.0</td>\n",
       "      <td>0.000000</td>\n",
       "      <td>28</td>\n",
       "    </tr>\n",
       "    <tr>\n",
       "      <th>4.0</th>\n",
       "      <td>28.888889</td>\n",
       "      <td>27.0</td>\n",
       "      <td>5.325515</td>\n",
       "      <td>39</td>\n",
       "    </tr>\n",
       "    <tr>\n",
       "      <th>6.0</th>\n",
       "      <td>24.666667</td>\n",
       "      <td>25.0</td>\n",
       "      <td>1.861899</td>\n",
       "      <td>26</td>\n",
       "    </tr>\n",
       "    <tr>\n",
       "      <th>8.0</th>\n",
       "      <td>17.000000</td>\n",
       "      <td>17.0</td>\n",
       "      <td>0.000000</td>\n",
       "      <td>17</td>\n",
       "    </tr>\n",
       "    <tr>\n",
       "      <th rowspan=\"4\" valign=\"top\">Premium or E85</th>\n",
       "      <th>4.0</th>\n",
       "      <td>24.392857</td>\n",
       "      <td>24.0</td>\n",
       "      <td>1.370031</td>\n",
       "      <td>27</td>\n",
       "    </tr>\n",
       "    <tr>\n",
       "      <th>6.0</th>\n",
       "      <td>21.018182</td>\n",
       "      <td>21.0</td>\n",
       "      <td>1.509119</td>\n",
       "      <td>23</td>\n",
       "    </tr>\n",
       "    <tr>\n",
       "      <th>8.0</th>\n",
       "      <td>17.312500</td>\n",
       "      <td>18.0</td>\n",
       "      <td>1.078193</td>\n",
       "      <td>19</td>\n",
       "    </tr>\n",
       "    <tr>\n",
       "      <th>12.0</th>\n",
       "      <td>14.318182</td>\n",
       "      <td>14.0</td>\n",
       "      <td>0.646335</td>\n",
       "      <td>15</td>\n",
       "    </tr>\n",
       "    <tr>\n",
       "      <th rowspan=\"8\" valign=\"top\">Regular</th>\n",
       "      <th>2.0</th>\n",
       "      <td>17.304348</td>\n",
       "      <td>17.0</td>\n",
       "      <td>0.470472</td>\n",
       "      <td>18</td>\n",
       "    </tr>\n",
       "    <tr>\n",
       "      <th>3.0</th>\n",
       "      <td>36.965116</td>\n",
       "      <td>36.0</td>\n",
       "      <td>6.081220</td>\n",
       "      <td>53</td>\n",
       "    </tr>\n",
       "    <tr>\n",
       "      <th>4.0</th>\n",
       "      <td>23.959436</td>\n",
       "      <td>23.0</td>\n",
       "      <td>4.363611</td>\n",
       "      <td>56</td>\n",
       "    </tr>\n",
       "    <tr>\n",
       "      <th>5.0</th>\n",
       "      <td>20.068627</td>\n",
       "      <td>19.0</td>\n",
       "      <td>3.033020</td>\n",
       "      <td>27</td>\n",
       "    </tr>\n",
       "    <tr>\n",
       "      <th>6.0</th>\n",
       "      <td>17.860770</td>\n",
       "      <td>18.0</td>\n",
       "      <td>2.357853</td>\n",
       "      <td>28</td>\n",
       "    </tr>\n",
       "    <tr>\n",
       "      <th>8.0</th>\n",
       "      <td>14.337204</td>\n",
       "      <td>14.0</td>\n",
       "      <td>2.305063</td>\n",
       "      <td>22</td>\n",
       "    </tr>\n",
       "    <tr>\n",
       "      <th>10.0</th>\n",
       "      <td>11.500000</td>\n",
       "      <td>11.5</td>\n",
       "      <td>0.534522</td>\n",
       "      <td>12</td>\n",
       "    </tr>\n",
       "    <tr>\n",
       "      <th>12.0</th>\n",
       "      <td>12.571429</td>\n",
       "      <td>13.0</td>\n",
       "      <td>1.092372</td>\n",
       "      <td>15</td>\n",
       "    </tr>\n",
       "    <tr>\n",
       "      <th>Regular Gas and Electricity</th>\n",
       "      <th>4.0</th>\n",
       "      <td>41.937500</td>\n",
       "      <td>38.5</td>\n",
       "      <td>5.246824</td>\n",
       "      <td>50</td>\n",
       "    </tr>\n",
       "    <tr>\n",
       "      <th>Regular Gas or Electricity</th>\n",
       "      <th>4.0</th>\n",
       "      <td>42.000000</td>\n",
       "      <td>42.0</td>\n",
       "      <td>0.000000</td>\n",
       "      <td>42</td>\n",
       "    </tr>\n",
       "  </tbody>\n",
       "</table>\n",
       "</div>"
      ],
      "text/plain": [
       "                                            mean  median       std  max\n",
       "Fuel Type                   Cylinders                                  \n",
       "CNG                         4.0        27.619048    28.0  2.578298   31\n",
       "                            6.0        17.000000    17.0  0.000000   17\n",
       "                            8.0        12.694444    12.5  2.214491   18\n",
       "Diesel                      4.0        31.468553    33.0  4.574372   40\n",
       "                            5.0        24.470588    26.0  3.572773   28\n",
       "                            6.0        23.754967    23.0  3.015442   30\n",
       "                            8.0        17.384798    17.0  1.519448   21\n",
       "                            10.0       17.250000    17.0  0.500000   18\n",
       "Gasoline or E85             4.0        25.062992    25.0  3.020428   33\n",
       "                            6.0        19.763231    20.0  1.906234   23\n",
       "                            8.0        15.121298    15.0  1.632807   19\n",
       "Gasoline or natural gas     4.0        23.200000    23.0  0.836660   24\n",
       "                            6.0        20.000000    20.0  0.000000   20\n",
       "                            8.0        11.615385    12.0  0.767948   13\n",
       "Gasoline or propane         8.0        13.500000    13.5  1.603567   15\n",
       "Midgrade                    6.0        22.000000    21.0  1.414214   24\n",
       "                            8.0        17.043478    17.0  1.365917   19\n",
       "Premium                     2.0        18.272727    18.0  0.455842   19\n",
       "                            3.0        34.961538    36.0  1.684773   36\n",
       "                            4.0        23.325777    23.0  3.620906   45\n",
       "                            5.0        20.463087    20.0  1.297620   23\n",
       "                            6.0        19.808354    20.0  2.388879   31\n",
       "                            8.0        16.255311    17.0  2.411833   22\n",
       "                            10.0       13.985816    14.0  1.760624   17\n",
       "                            12.0       12.988119    13.0  1.764919   17\n",
       "                            16.0       10.000000    10.0  0.000000   10\n",
       "Premium Gas or Electricity  2.0        39.000000    39.0  0.000000   39\n",
       "                            4.0        33.300000    35.0  5.355164   37\n",
       "                            6.0        22.000000    22.0  0.000000   22\n",
       "                            8.0        22.000000    22.0       NaN   22\n",
       "Premium and Electricity     3.0        28.000000    28.0  0.000000   28\n",
       "                            4.0        28.888889    27.0  5.325515   39\n",
       "                            6.0        24.666667    25.0  1.861899   26\n",
       "                            8.0        17.000000    17.0  0.000000   17\n",
       "Premium or E85              4.0        24.392857    24.0  1.370031   27\n",
       "                            6.0        21.018182    21.0  1.509119   23\n",
       "                            8.0        17.312500    18.0  1.078193   19\n",
       "                            12.0       14.318182    14.0  0.646335   15\n",
       "Regular                     2.0        17.304348    17.0  0.470472   18\n",
       "                            3.0        36.965116    36.0  6.081220   53\n",
       "                            4.0        23.959436    23.0  4.363611   56\n",
       "                            5.0        20.068627    19.0  3.033020   27\n",
       "                            6.0        17.860770    18.0  2.357853   28\n",
       "                            8.0        14.337204    14.0  2.305063   22\n",
       "                            10.0       11.500000    11.5  0.534522   12\n",
       "                            12.0       12.571429    13.0  1.092372   15\n",
       "Regular Gas and Electricity 4.0        41.937500    38.5  5.246824   50\n",
       "Regular Gas or Electricity  4.0        42.000000    42.0  0.000000   42"
      ]
     },
     "execution_count": 91,
     "metadata": {},
     "output_type": "execute_result"
    }
   ],
   "source": [
    "#agg te arroja varios agregadores (media, median, std)\n",
    "vehiculos.groupby(['Fuel Type', 'Cylinders'])['Combined MPG'].agg(['mean', 'median','std', 'max'])"
   ]
  },
  {
   "cell_type": "code",
   "execution_count": 94,
   "metadata": {},
   "outputs": [
    {
     "name": "stderr",
     "output_type": "stream",
     "text": [
      "C:\\Users\\Ramiro Antonio\\Anaconda3\\lib\\site-packages\\scipy\\stats\\stats.py:248: RuntimeWarning: The input array could not be properly checked for nan values. nan values will be ignored.\n",
      "  \"values. nan values will be ignored.\", RuntimeWarning)\n"
     ]
    },
    {
     "data": {
      "text/plain": [
       "Transmission\n",
       "Auto (AV)                                                 ([Compact Cars], [2])\n",
       "Auto (AV-S6)                                              ([Compact Cars], [1])\n",
       "Auto (AV-S8)                                              ([Midsize Cars], [1])\n",
       "Auto(A1)                                               ([Subcompact Cars], [1])\n",
       "Auto(AM-S6)                                              ([Compact Cars], [37])\n",
       "Auto(AM-S7)                                          ([Minicompact Cars], [75])\n",
       "Auto(AM-S8)                                               ([Compact Cars], [3])\n",
       "Auto(AM-S9)                                                ([Two Seaters], [1])\n",
       "Auto(AM5)                                                 ([Two Seaters], [12])\n",
       "Auto(AM6)                                                ([Compact Cars], [33])\n",
       "Auto(AM7)                                                 ([Two Seaters], [89])\n",
       "Auto(AM8)                           ([Standard Sport Utility Vehicle 4WD], [3])\n",
       "Auto(AV-S6)                                              ([Midsize Cars], [30])\n",
       "Auto(AV-S7)                                              ([Midsize Cars], [19])\n",
       "Auto(AV-S8)                                              ([Midsize Cars], [12])\n",
       "Auto(L3)                                      ([Special Purpose Vehicles], [2])\n",
       "Auto(L4)                                      ([Special Purpose Vehicles], [2])\n",
       "Automatic (A1)                                         ([Subcompact Cars], [3])\n",
       "Automatic (A6)                                            ([Compact Cars], [2])\n",
       "Automatic (AM5)                                            ([Two Seaters], [2])\n",
       "Automatic (AM6)                                            ([Two Seaters], [1])\n",
       "Automatic (AV)                                            ([Midsize Cars], [2])\n",
       "Automatic (AV-S6)                                         ([Compact Cars], [2])\n",
       "Automatic (S4)                                           ([Compact Cars], [52])\n",
       "Automatic (S5)                                          ([Compact Cars], [210])\n",
       "Automatic (S6)                                          ([Midsize Cars], [498])\n",
       "Automatic (S7)                                           ([Midsize Cars], [74])\n",
       "Automatic (S8)                                          ([Midsize Cars], [199])\n",
       "Automatic (S9)                        ([Small Sport Utility Vehicle 4WD], [14])\n",
       "Automatic (variable gear ratios)                        ([Midsize Cars], [147])\n",
       "Automatic 3-spd                                         ([Compact Cars], [460])\n",
       "Automatic 4-spd                                        ([Midsize Cars], [1168])\n",
       "Automatic 5-spd                          ([Sport Utility Vehicle - 4WD], [362])\n",
       "Automatic 6-spd                          ([Sport Utility Vehicle - 2WD], [203])\n",
       "Automatic 6spd                                            ([Midsize Cars], [1])\n",
       "Automatic 7-spd                                         ([Compact Cars], [110])\n",
       "Automatic 8-spd                                            ([Large Cars], [74])\n",
       "Automatic 9-spd                       ([Small Sport Utility Vehicle 4WD], [31])\n",
       "Manual 3-spd                                                     ([Vans], [32])\n",
       "Manual 4-spd                                  ([Standard Pickup Trucks], [439])\n",
       "Manual 5 spd                                                      ([Vans], [1])\n",
       "Manual 5-spd                                           ([Compact Cars], [1552])\n",
       "Manual 6-spd                                            ([Compact Cars], [508])\n",
       "Manual 7-spd                                         ([Minicompact Cars], [61])\n",
       "Manual(M7)                                                 ([Two Seaters], [3])\n",
       "Name: Vehicle Class, dtype: object"
      ]
     },
     "execution_count": 94,
     "metadata": {},
     "output_type": "execute_result"
    }
   ],
   "source": [
    "#hacemos una función\n",
    "\n",
    "def moda_chafa(x):\n",
    "    return (scipy.stats.mode(x))\n",
    "\n",
    "vehiculos.groupby('Transmission')['Vehicle Class'].agg(moda_chafa)"
   ]
  }
 ],
 "metadata": {
  "kernelspec": {
   "display_name": "Python 3",
   "language": "python",
   "name": "python3"
  },
  "language_info": {
   "codemirror_mode": {
    "name": "ipython",
    "version": 3
   },
   "file_extension": ".py",
   "mimetype": "text/x-python",
   "name": "python",
   "nbconvert_exporter": "python",
   "pygments_lexer": "ipython3",
   "version": "3.7.3"
  }
 },
 "nbformat": 4,
 "nbformat_minor": 2
}
